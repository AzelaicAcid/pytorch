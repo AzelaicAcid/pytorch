{
 "cells": [
  {
   "cell_type": "markdown",
   "metadata": {},
   "source": [
    "# 1.Tensor的数据类型和数据类型转换"
   ]
  },
  {
   "cell_type": "code",
   "execution_count": 13,
   "metadata": {},
   "outputs": [
    {
     "data": {
      "text/plain": [
       "torch.float16"
      ]
     },
     "execution_count": 13,
     "metadata": {},
     "output_type": "execute_result"
    }
   ],
   "source": [
    "import torch\n",
    "## 获取张量的数据类型\n",
    "torch.tensor([1.2, 3.4]).dtype"
   ]
  },
  {
   "cell_type": "markdown",
   "metadata": {},
   "source": [
    "## 1.2 改变张量的默认数据类型"
   ]
  },
  {
   "cell_type": "code",
   "execution_count": 14,
   "metadata": {},
   "outputs": [
    {
     "data": {
      "text/plain": [
       "torch.float64"
      ]
     },
     "execution_count": 14,
     "metadata": {},
     "output_type": "execute_result"
    }
   ],
   "source": [
    "torch.set_default_tensor_type(torch.DoubleTensor)\n",
    "torch.tensor([1.2, 3.4]).dtype"
   ]
  },
  {
   "cell_type": "code",
   "execution_count": 15,
   "metadata": {},
   "outputs": [
    {
     "data": {
      "text/plain": [
       "torch.float16"
      ]
     },
     "execution_count": 15,
     "metadata": {},
     "output_type": "execute_result"
    }
   ],
   "source": [
    "torch.set_default_tensor_type(torch.HalfTensor)\n",
    "torch.tensor([1.2, 3.4]).dtype"
   ]
  },
  {
   "cell_type": "markdown",
   "metadata": {},
   "source": [
    "## 1.3 改变张量的数据类型"
   ]
  },
  {
   "cell_type": "code",
   "execution_count": 16,
   "metadata": {},
   "outputs": [
    {
     "name": "stdout",
     "output_type": "stream",
     "text": [
      "torch.float16\n",
      "a.long()方法： torch.int64\n",
      "a.int()方法： torch.int32\n",
      "a.float()方法： torch.float32\n"
     ]
    }
   ],
   "source": [
    "a = torch.tensor([1.2, 3.4])\n",
    "print(a.dtype)\n",
    "print('a.long()方法：', a.long().dtype)\n",
    "print('a.int()方法：', a.int().dtype)\n",
    "print('a.float()方法：', a.float().dtype)"
   ]
  },
  {
   "cell_type": "markdown",
   "metadata": {},
   "source": [
    "## 1.4 获取张量默认数据类型"
   ]
  },
  {
   "cell_type": "code",
   "execution_count": 17,
   "metadata": {},
   "outputs": [
    {
     "data": {
      "text/plain": [
       "torch.float16"
      ]
     },
     "execution_count": 17,
     "metadata": {},
     "output_type": "execute_result"
    }
   ],
   "source": [
    "torch.get_default_dtype()"
   ]
  },
  {
   "cell_type": "markdown",
   "metadata": {},
   "source": [
    "## 1.5 张量的生成"
   ]
  },
  {
   "cell_type": "code",
   "execution_count": 18,
   "metadata": {},
   "outputs": [],
   "source": [
    "#通过torch.tensor()构造张量, dtype=...指定数据类型，requires_grad=...指定是否需要计算梯度\n",
    "A = torch.tensor([[1.0, 1.0], [2,2]], dtype=torch.float32, requires_grad=True)"
   ]
  },
  {
   "cell_type": "markdown",
   "metadata": {},
   "source": [
    "# 1.5.1 张量的属性"
   ]
  },
  {
   "cell_type": "code",
   "execution_count": 19,
   "metadata": {},
   "outputs": [
    {
     "name": "stdout",
     "output_type": "stream",
     "text": [
      "A.shape: torch.Size([2, 2])\n",
      "A.size(): torch.Size([2, 2])\n",
      "A.numel(): 4\n"
     ]
    }
   ],
   "source": [
    "print('A.shape:', A.shape) #张量的形状\n",
    "print('A.size():', A.size())\n",
    "print('A.numel():', A.numel()) #张量的元素个数"
   ]
  },
  {
   "cell_type": "code",
   "execution_count": 20,
   "metadata": {},
   "outputs": [
    {
     "name": "stdout",
     "output_type": "stream",
     "text": [
      "tensor([[2., 2.],\n",
      "        [4., 4.]], dtype=torch.float32)\n"
     ]
    }
   ],
   "source": [
    "y = A.pow(2).sum() \n",
    "y.backward()\n",
    "print(A.grad) #张量每个元素的梯度"
   ]
  },
  {
   "cell_type": "markdown",
   "metadata": {},
   "source": [
    "### 1.5.2 ones, zeros,eyes"
   ]
  },
  {
   "cell_type": "code",
   "execution_count": 59,
   "metadata": {},
   "outputs": [
    {
     "name": "stdout",
     "output_type": "stream",
     "text": [
      "tensor([[1., 1., 1.],\n",
      "        [1., 1., 1.]])\n",
      "tensor([[0., 0., 0.],\n",
      "        [0., 0., 0.]])\n",
      "tensor([[1., 0., 0.],\n",
      "        [0., 1., 0.],\n",
      "        [0., 0., 1.]])\n"
     ]
    }
   ],
   "source": [
    "print(torch.ones(2,3))\n",
    "print(torch.zeros(2,3))\n",
    "print(torch.eye(3,3))"
   ]
  },
  {
   "cell_type": "markdown",
   "metadata": {},
   "source": [
    "### 1.5.3**_like()"
   ]
  },
  {
   "cell_type": "code",
   "execution_count": 30,
   "metadata": {},
   "outputs": [
    {
     "name": "stdout",
     "output_type": "stream",
     "text": [
      "tensor([[1, 1, 1, 1, 1],\n",
      "        [1, 1, 1, 1, 1]])\n",
      "tensor([[0, 0, 0, 0, 0],\n",
      "        [0, 0, 0, 0, 0]])\n",
      "tensor([[0.7444, 0.2809, 0.9330, 0.1807, 0.1183],\n",
      "        [0.3153, 0.4122, 0.4974, 0.1545, 0.3744]], dtype=torch.float32)\n",
      "tensor([[1, 0, 0, 0, 0],\n",
      "        [0, 2, 0, 0, 0],\n",
      "        [0, 0, 3, 0, 0],\n",
      "        [0, 0, 0, 4, 0],\n",
      "        [0, 0, 0, 0, 5]])\n"
     ]
    }
   ],
   "source": [
    "B = torch.arange(0,10).reshape(2,5)\n",
    "print(torch.ones_like(B))\n",
    "print(torch.zeros_like(B))\n",
    "print(torch.rand_like(B.float()))\n",
    "print(torch.diag(torch.tensor((1,2,3,4,5)))) #输出对角张量"
   ]
  },
  {
   "cell_type": "markdown",
   "metadata": {},
   "source": [
    "### 1.5.4 torch.new_**() 创建类型相同但是尺寸不同的张量"
   ]
  },
  {
   "cell_type": "code",
   "execution_count": 51,
   "metadata": {},
   "outputs": [
    {
     "name": "stdout",
     "output_type": "stream",
     "text": [
      "tensor([[1, 1, 1],\n",
      "        [1, 1, 1],\n",
      "        [1, 1, 1]])\n",
      "tensor([[0, 0, 0],\n",
      "        [0, 0, 0],\n",
      "        [0, 0, 0]])\n",
      "tensor([[4605263879457472512, 4607043982877261824, 4600291434757619712],\n",
      "        [4604706623020072960, 4598550106839449600, 4592566799710552064],\n",
      "        [4594188390382960640, 4598165298170822656, 4592540347006976000]])\n",
      "tensor([[1, 1, 1],\n",
      "        [1, 1, 1],\n",
      "        [1, 1, 1]])\n"
     ]
    }
   ],
   "source": [
    "X = torch.diag(torch.tensor((1,2,3,4,5)))\n",
    "print(X.new_full((3,3), fill_value=1))\n",
    "print(X.new_zeros((3,3)))\n",
    "print(X.new_empty((3,3)))\n",
    "print(X.new_ones((3,3)))"
   ]
  },
  {
   "cell_type": "markdown",
   "metadata": {},
   "source": [
    "### 1.5.5 张量与Numpy数组相互转换"
   ]
  },
  {
   "cell_type": "code",
   "execution_count": 52,
   "metadata": {},
   "outputs": [
    {
     "name": "stdout",
     "output_type": "stream",
     "text": [
      "tensor([[1., 1., 1.],\n",
      "        [1., 1., 1.],\n",
      "        [1., 1., 1.]], dtype=torch.float64) tensor([[1., 1., 1.],\n",
      "        [1., 1., 1.],\n",
      "        [1., 1., 1.]], dtype=torch.float64) [[1. 1. 1.]\n",
      " [1. 1. 1.]\n",
      " [1. 1. 1.]]\n"
     ]
    }
   ],
   "source": [
    "import numpy as np\n",
    "F = np.ones((3,3))\n",
    "#numpy数组转换为张量\n",
    "Ftensor1 = torch.as_tensor(F)\n",
    "Ftensor2 = torch.from_numpy(F)\n",
    "#张量转换为numpy数组\n",
    "a = Ftensor1.numpy()\n",
    "\n",
    "print(Ftensor1, Ftensor2, a)"
   ]
  },
  {
   "cell_type": "markdown",
   "metadata": {},
   "source": [
    "### 1.5.6 随机数生成张量"
   ]
  },
  {
   "cell_type": "code",
   "execution_count": 54,
   "metadata": {},
   "outputs": [
    {
     "name": "stdout",
     "output_type": "stream",
     "text": [
      "tensor([0.8887, 2.2402, 1.8906, 3.0391])\n"
     ]
    }
   ],
   "source": [
    "torch.manual_seed(123) #手动指定随机数种子\n",
    "#分别产生服从 N(1,1^2),N(2, 2^2),N(3,3^2),N(4,4^2）的四个随机数\n",
    "A_normal = torch.normal(mean=torch.arange(1,5.0), std=torch.arange(1,5.0))\n",
    "print(A_normal)"
   ]
  },
  {
   "cell_type": "code",
   "execution_count": 55,
   "metadata": {},
   "outputs": [
    {
     "name": "stdout",
     "output_type": "stream",
     "text": [
      "tensor([[0.7905, 0.0518, 0.5601, 0.7778],\n",
      "        [0.6045, 0.8599, 0.0469, 0.0552],\n",
      "        [0.3115, 0.0229, 0.0356, 0.7656]])\n"
     ]
    }
   ],
   "source": [
    "print(torch.rand(3,4)) #服从U(0,1)的3*4张量\n"
   ]
  },
  {
   "cell_type": "code",
   "execution_count": 56,
   "metadata": {},
   "outputs": [
    {
     "name": "stdout",
     "output_type": "stream",
     "text": [
      "tensor([0.4600, 0.1094, 0.0542, 0.6997])\n",
      "tensor([[ 0.2350,  0.6650,  0.3528,  0.9727],\n",
      "        [-0.0386, -0.8862, -0.4709, -0.4270],\n",
      "        [-0.0283,  1.4219, -0.3887, -0.8901]])\n"
     ]
    }
   ],
   "source": [
    "print(torch.rand_like(A_normal)) #服从标准正态分布\n",
    "print(torch.randn(3,4)) #标准正态分布"
   ]
  },
  {
   "cell_type": "code",
   "execution_count": 57,
   "metadata": {},
   "outputs": [
    {
     "name": "stdout",
     "output_type": "stream",
     "text": [
      "tensor([0, 7, 5, 8, 3, 1, 6, 2, 4])\n"
     ]
    }
   ],
   "source": [
    "print(torch.randperm(9)) #将0-8的整数随机打乱成张量"
   ]
  },
  {
   "cell_type": "markdown",
   "metadata": {},
   "source": [
    "### 1.5.7 其他生成张量的函数"
   ]
  },
  {
   "cell_type": "code",
   "execution_count": 61,
   "metadata": {},
   "outputs": [
    {
     "name": "stdout",
     "output_type": "stream",
     "text": [
      "tensor([0, 2, 4, 6, 8])\n",
      "tensor([ 0.0000,  2.5000,  5.0000,  7.5000, 10.0000])\n"
     ]
    }
   ],
   "source": [
    "print(torch.arange(start=0, end=10, step=2)) #固定步长\n",
    "print(torch.linspace(0,10,5)) #固定数量"
   ]
  },
  {
   "cell_type": "markdown",
   "metadata": {},
   "source": [
    "## 1.6 张量的操作"
   ]
  },
  {
   "cell_type": "code",
   "execution_count": 62,
   "metadata": {},
   "outputs": [
    {
     "name": "stdout",
     "output_type": "stream",
     "text": [
      "tensor([[ 0.,  1.,  2.,  3.],\n",
      "        [ 4.,  5.,  6.,  7.],\n",
      "        [ 8.,  9., 10., 11.]])\n"
     ]
    }
   ],
   "source": [
    "print(torch.arange(12.0).reshape(3,4))"
   ]
  }
 ],
 "metadata": {
  "kernelspec": {
   "display_name": "d2l",
   "language": "python",
   "name": "python3"
  },
  "language_info": {
   "codemirror_mode": {
    "name": "ipython",
    "version": 3
   },
   "file_extension": ".py",
   "mimetype": "text/x-python",
   "name": "python",
   "nbconvert_exporter": "python",
   "pygments_lexer": "ipython3",
   "version": "3.9.18"
  }
 },
 "nbformat": 4,
 "nbformat_minor": 2
}
